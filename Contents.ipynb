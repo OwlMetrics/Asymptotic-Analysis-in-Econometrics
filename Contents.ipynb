{
 "cells": [
  {
   "cell_type": "markdown",
   "metadata": {},
   "source": [
    "# Asymptotic Analysis in Econometrics\n",
    "\n",
    "***\n",
    "\n",
    "> ### [**`1. Stochastic Convergence`**]()\n",
    "\n",
    "> ### [**`2. Consistency`**]()\n",
    "\n",
    "> ### [**`3. Asymptotic Normality`**]()\n",
    "\n",
    "> ### [**`4. Empirical Processes`**]() \n",
    "> * [**`Kato's note`**]() \n",
    "> * [**`Supplimentary Materials`**]()\n",
    "\n",
    "> ### [**`5. Applications`**]()"
   ]
  }
 ],
 "metadata": {
  "kernelspec": {
   "display_name": "Python 3",
   "language": "python",
   "name": "python3"
  },
  "language_info": {
   "codemirror_mode": {
    "name": "ipython",
    "version": 3
   },
   "file_extension": ".py",
   "mimetype": "text/x-python",
   "name": "python",
   "nbconvert_exporter": "python",
   "pygments_lexer": "ipython3",
   "version": "3.6.3"
  }
 },
 "nbformat": 4,
 "nbformat_minor": 2
}
